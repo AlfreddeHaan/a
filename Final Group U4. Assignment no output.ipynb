{
 "cells": [
  {
   "cell_type": "code",
   "execution_count": null,
   "metadata": {},
   "outputs": [],
   "source": [
    "# Set Jupyter to render directly to the screen\n",
    "%matplotlib inline\n",
    "\n",
    "# Import pandas and numpy for analysis\n",
    "import pandas as pd\n",
    "import numpy as np\n",
    "import matplotlib as plt\n",
    "import math as math"
   ]
  },
  {
   "cell_type": "markdown",
   "metadata": {},
   "source": [
    "# Importing the Black Scholes functions"
   ]
  },
  {
   "cell_type": "code",
   "execution_count": null,
   "metadata": {},
   "outputs": [],
   "source": [
    "from black_scholes import call_value, put_value, call_delta, put_delta, call_vega, put_vega"
   ]
  },
  {
   "cell_type": "code",
   "execution_count": null,
   "metadata": {},
   "outputs": [],
   "source": [
    "help(call_value)"
   ]
  },
  {
   "cell_type": "code",
   "execution_count": null,
   "metadata": {},
   "outputs": [],
   "source": [
    "help(put_value)"
   ]
  },
  {
   "cell_type": "code",
   "execution_count": null,
   "metadata": {},
   "outputs": [],
   "source": [
    "help(call_delta)"
   ]
  },
  {
   "cell_type": "markdown",
   "metadata": {},
   "source": [
    "# Testing the Black-Scholes function"
   ]
  },
  {
   "cell_type": "code",
   "execution_count": null,
   "metadata": {},
   "outputs": [],
   "source": [
    "# This is an example showing the functionality of the black_scholes module by making a plot\n",
    "# of the option values and greeks for different prices of the underlying stock. You will need \n",
    "# to use the same functions, call_value, put_value, call_delta, etc. with different inputs \n",
    "# for your own trading strategy.\n",
    "\n",
    "K = 100\n",
    "T = 0.4\n",
    "r = 0.0\n",
    "sigma = 0.16\n",
    "\n",
    "stock_values = range(80, 122, 2)\n",
    "\n",
    "call_values = list()\n",
    "put_values = list()\n",
    "call_deltas = list()\n",
    "put_deltas = list()\n",
    "call_vegas = list()\n",
    "put_vegas = list()\n",
    "\n",
    "for stock_value in stock_values:\n",
    "    call_values.append(call_value(stock_value, K, T, r, sigma))\n",
    "    put_values.append(put_value(stock_value, K, T, r, sigma))\n",
    "    call_deltas.append(call_delta(stock_value, K, T, r, sigma))\n",
    "    put_deltas.append(put_delta(stock_value, K, T, r, sigma))\n",
    "    call_vegas.append(call_vega(stock_value, K, T, r, sigma))\n",
    "    put_vegas.append(put_vega(stock_value, K, T, r, sigma))\n",
    "\n",
    "    \n",
    "option_values = pd.DataFrame(data={'Call': call_values, 'Put': put_values}, index=stock_values)\n",
    "option_values.index.name = 'Stock Value'\n",
    "\n",
    "option_deltas = pd.DataFrame(data={'Call': call_deltas, 'Put': put_deltas}, index=stock_values)\n",
    "option_deltas.index.name = 'Stock Value'\n",
    "\n",
    "option_vegas = pd.DataFrame(data={'Call': call_vegas, 'Put': put_vegas}, index=stock_values)\n",
    "option_vegas.index.name = 'Stock Value'\n",
    "\n",
    "option_values.plot(title='Option Value - Strike {}'.format(K))\n",
    "option_deltas.plot(title='Option Delta - Strike {}'.format(K))\n",
    "option_vegas.plot(title='Option Vega - Strike {}'.format(K))"
   ]
  },
  {
   "cell_type": "markdown",
   "metadata": {},
   "source": [
    "# Reading in the CSV file"
   ]
  },
  {
   "cell_type": "code",
   "execution_count": null,
   "metadata": {},
   "outputs": [],
   "source": [
    "def read_data(filename):\n",
    "    '''\n",
    "    This function reads the .csv stored at the 'filename' location and returns three DataFrame's.\n",
    "    \n",
    "    The first DataFrame contains the Stock bid and ask price and volumes. It is indexed by timestamp.\n",
    "    There is one level of column names, which describes whether it is a BidPrice, BidVolume, AskPrice\n",
    "    or AskVolume.\n",
    "    \n",
    "    The second DataFrame contains the Time-to-Expiry of the options in the dataset. It is indexed by\n",
    "    timestamp, and has one level of column names. There is only one column: the time to expiry.\n",
    "  \n",
    "    The third DataFrame contains the Option bid and ask price and volumes for different strikes. It\n",
    "    is indexed by timestamp and has three levels of columns. The first level gives the strike, the second\n",
    "    level gives the option type (C for Call and P for put), the third level gives whether it is a\n",
    "    BidPrice, BidVolume, AskPrice or AskVolume.\n",
    "    '''\n",
    "    df = pd.read_csv(filename, index_col=0)\n",
    "       \n",
    "    time_to_expiry = df.filter(like='TimeToExpiry')\n",
    "    \n",
    "    stock = df.filter(like='Stock')\n",
    "    stock.columns = [stock.columns.str[-5:], stock.columns.str[:-6]]\n",
    "    \n",
    "    options = pd.concat((df.filter(like='-P'), df.filter(like='-C')), axis=1)  \n",
    "    options.columns = [options.columns.str[-3:], options.columns.str[:-4]]\n",
    "\n",
    "    market_data = pd.concat((stock, options), axis=1)\n",
    "    \n",
    "    return time_to_expiry, market_data"
   ]
  },
  {
   "cell_type": "code",
   "execution_count": null,
   "metadata": {
    "scrolled": false
   },
   "outputs": [],
   "source": [
    "# Read the market data\n",
    "\n",
    "filename = 'Options Arbitrage.csv'\n",
    "time_to_expiry, market_data = read_data(filename)"
   ]
  },
  {
   "cell_type": "code",
   "execution_count": null,
   "metadata": {
    "scrolled": false
   },
   "outputs": [],
   "source": [
    "# Get a list of all instrument names including the stock, and of the options only\n",
    "instrument_names = list(market_data.columns.get_level_values(0).unique())\n",
    "print(instrument_names)\n",
    "\n",
    "option_names = instrument_names[1:]\n",
    "print(option_names)"
   ]
  },
  {
   "cell_type": "markdown",
   "metadata": {},
   "source": [
    "# Some Examples"
   ]
  },
  {
   "cell_type": "code",
   "execution_count": null,
   "metadata": {},
   "outputs": [],
   "source": [
    "# What is in the market_data dataframe? \n",
    "market_data.head()"
   ]
  },
  {
   "cell_type": "code",
   "execution_count": null,
   "metadata": {},
   "outputs": [],
   "source": [
    "# What is in the time to expiry dataframe?\n",
    "time_to_expiry.tail()"
   ]
  },
  {
   "cell_type": "code",
   "execution_count": null,
   "metadata": {},
   "outputs": [],
   "source": [
    "# Plot bids and asks for the stock\n",
    "market_data['Stock', 'BidPrice'].head(300).plot(figsize=(20, 3))\n",
    "market_data['Stock', 'AskPrice'].head(300).plot(figsize=(20, 3))"
   ]
  },
  {
   "cell_type": "code",
   "execution_count": null,
   "metadata": {},
   "outputs": [],
   "source": [
    "# Plot bids and asks for two of the options\n",
    "print(option_names[1], option_names[4])\n",
    "\n",
    "market_data[option_names[1], 'BidPrice'].head(300).plot(figsize=(20, 3))\n",
    "market_data[option_names[1], 'AskPrice'].head(300).plot(figsize=(20, 3))\n",
    "market_data[option_names[4], 'BidPrice'].head(300).plot(figsize=(20, 3))\n",
    "market_data[option_names[4], 'AskPrice'].head(300).plot(figsize=(20, 3))"
   ]
  },
  {
   "cell_type": "markdown",
   "metadata": {},
   "source": [
    "# Exercise"
   ]
  },
  {
   "cell_type": "code",
   "execution_count": null,
   "metadata": {},
   "outputs": [],
   "source": [
    "# Now it's your turn. Start by calculating your own theoretical values and deltas for the options. Visualize \n",
    "# these alongside the market data, is it clear when you would want to do a trade? Enter positions when that \n",
    "# is the case, and manage your delta-risk by hedging away your delta position in the underlying stock."
   ]
  },
  {
   "cell_type": "code",
   "execution_count": null,
   "metadata": {},
   "outputs": [],
   "source": [
    "# Merge market_data with time to expiry and calculate mid prices\n",
    "\n",
    "market_data[\"TimeToExpiry\"] = time_to_expiry[\"TimeToExpiry\"]\n",
    "\n",
    "market_data[\"Stock\", \"MidPrice\"] = (market_data[\"Stock\", \"AskPrice\"] + market_data[\"Stock\", \"BidPrice\"])/2\n",
    "\n",
    "market_data.head()"
   ]
  },
  {
   "cell_type": "code",
   "execution_count": null,
   "metadata": {},
   "outputs": [],
   "source": [
    "# Calculate theoretical prices and greeks for options using a for loop to make it easy\n",
    "# if we buy a put, we also buy the underlying stock so we need the ask price of the stock to calcualate the value and delta.\n",
    "# the same goes for when we sell a call. The opposite goes for when we buy a call or sell a put. Using the bid and ask prices\n",
    "# as stock price in these calculations is easier than using the midprice, because that would complicate the algorithm later on\n",
    "\n",
    "for option in option_names:\n",
    "    if option[0] == \"P\":\n",
    "        market_data[option, \"ValueAsk\"] = put_value(market_data[\"Stock\", \"AskPrice\"],\n",
    "                                           int(option[1:]),\n",
    "                                           market_data[\"TimeToExpiry\"],\n",
    "                                           0,\n",
    "                                           0.2)\n",
    "        market_data[option, \"ValueBid\"] = put_value(market_data[\"Stock\", \"BidPrice\"],\n",
    "                                           int(option[1:]),\n",
    "                                           market_data[\"TimeToExpiry\"],\n",
    "                                           0,\n",
    "                                           0.2)\n",
    "        market_data[option, \"DeltaAsk\"] = put_delta(market_data[\"Stock\", \"AskPrice\"],\n",
    "                                           int(option[1:]),\n",
    "                                           market_data[\"TimeToExpiry\"],\n",
    "                                           0,\n",
    "                                           0.2)\n",
    "        market_data[option, \"DeltaBid\"] = put_delta(market_data[\"Stock\", \"BidPrice\"],\n",
    "                                           int(option[1:]),\n",
    "                                           market_data[\"TimeToExpiry\"],\n",
    "                                           0,\n",
    "                                           0.2)\n",
    "        market_data[option, \"DeltaMid\"] = put_delta(market_data[\"Stock\", \"MidPrice\"],\n",
    "                                           int(option[1:]),\n",
    "                                           market_data[\"TimeToExpiry\"],\n",
    "                                           0,\n",
    "                                           0.2)\n",
    "    if option[0] == \"C\":\n",
    "        market_data[option, \"ValueAsk\"] = call_value(market_data[\"Stock\", \"BidPrice\"],\n",
    "                                           int(option[1:]),\n",
    "                                           market_data[\"TimeToExpiry\"],\n",
    "                                           0,\n",
    "                                           0.2)\n",
    "        market_data[option, \"ValueBid\"] = call_value(market_data[\"Stock\", \"AskPrice\"],\n",
    "                                           int(option[1:]),\n",
    "                                           market_data[\"TimeToExpiry\"],\n",
    "                                           0,\n",
    "                                           0.2)\n",
    "        market_data[option, \"DeltaAsk\"] = call_delta(market_data[\"Stock\", \"BidPrice\"],\n",
    "                                           int(option[1:]),\n",
    "                                           market_data[\"TimeToExpiry\"],\n",
    "                                           0,\n",
    "                                           0.2)\n",
    "        market_data[option, \"DeltaBid\"] = call_delta(market_data[\"Stock\", \"AskPrice\"],\n",
    "                                           int(option[1:]),\n",
    "                                           market_data[\"TimeToExpiry\"],\n",
    "                                           0,\n",
    "                                           0.2)\n",
    "        market_data[option, \"DeltaMid\"] = call_delta(market_data[\"Stock\", \"MidPrice\"],\n",
    "                                           int(option[1:]),\n",
    "                                           market_data[\"TimeToExpiry\"],\n",
    "                                           0,\n",
    "                                           0.2)\n",
    "\n",
    "market_data = market_data.sort_index(axis = 1, ascending = False)\n",
    "market_data.head()"
   ]
  },
  {
   "cell_type": "code",
   "execution_count": null,
   "metadata": {},
   "outputs": [],
   "source": [
    "# Examine data when the theoretical ask value is higher than the ask price (undervalued call option)\n",
    "market_data.loc[market_data[\"C60\", \"ValueAsk\"] > market_data[\"C60\", \"AskPrice\"]].head()"
   ]
  },
  {
   "cell_type": "code",
   "execution_count": null,
   "metadata": {},
   "outputs": [],
   "source": [
    "# Visualizing the problem:\n",
    "# when the stock price goes up, the value of a call option\n",
    "# goes up and the reverse happens for put options\n",
    "\n",
    "market_data[\"Stock\", \"BidPrice\"].plot(figsize = (20,10))\n",
    "market_data[\"P80\", \"ValueAsk\"].plot(color = 'r', label = \"P80\",legend = True)\n",
    "market_data[\"P60\", \"ValueAsk\"].plot(color = 'y', label = \"P60\",legend = True)\n",
    "market_data[\"P70\", \"ValueAsk\"].plot(color = 'black', label = \"P70\",legend = True)\n",
    "market_data[\"C80\", \"ValueAsk\"].plot(color = 'g', label = \"C80\",legend = True)\n",
    "market_data[\"C60\", \"ValueAsk\"].plot(color = 'b', label = 'C60',legend = True)\n",
    "market_data[\"C70\", \"ValueAsk\"].plot(color = 'purple', label = \"C70\", legend = True)\n"
   ]
  },
  {
   "cell_type": "code",
   "execution_count": null,
   "metadata": {},
   "outputs": [],
   "source": [
    "# Visualizing: how do the deltas of the options evolve\n",
    "# call deltas move in the same way as the call values, but\n",
    "# put deltas move in the opposite directino of the put values\n",
    "# makes sense because delta is about change, but not the direction of the change\n",
    "\n",
    "market_data[\"P60\", \"DeltaAsk\"].plot(color = 'r', figsize = (20,10))\n",
    "# market_data[\"P60\", \"PutValue\"].plot(color = 'r')\n",
    "market_data[\"P70\", \"DeltaAsk\"].plot(color = 'b')\n",
    "# market_data[\"P70\", \"PutValue\"].plot(color = 'b')\n",
    "\n",
    "market_data[\"C60\", \"DeltaAsk\"].plot(color = 'g')\n",
    "# market_data[\"C80\", \"CallValue\"].plot(color = 'g')\n"
   ]
  },
  {
   "cell_type": "code",
   "execution_count": null,
   "metadata": {},
   "outputs": [],
   "source": [
    "# For each option, calculate the difference between our theoretical ask value and the actual ask price, and\n",
    "# the difference between our theoretical bid value and the actual bid price. If the ask price is lower than \n",
    "# the theoretical price, it is undervalued (so if AskDifference > 0). \n",
    "# If the bid price is higher than theoretical price, it is overvalued (so if BidDifference > 0)\n",
    "for option in option_names:\n",
    "    market_data[option, \"AskDifference\"] = (market_data[option, \"ValueAsk\"] - market_data[option, \"AskPrice\"])\n",
    "    market_data[option, \"BidDifference\"] = (market_data[option, \"BidPrice\"] - market_data[option, \"ValueBid\"])\n",
    "\n",
    "market_data = market_data.sort_index(axis = 1, ascending = False)\n",
    "\n",
    "market_data.head()"
   ]
  },
  {
   "cell_type": "code",
   "execution_count": null,
   "metadata": {},
   "outputs": [],
   "source": [
    "# For one option, make a graph with all the instances where the AskDifference > 0 (so undervalued option)\n",
    "P80 = market_data.loc[market_data[\"P80\", \"AskDifference\"] > 0]\n",
    "P80[\"P80\", \"AskDifference\"].plot()"
   ]
  },
  {
   "cell_type": "code",
   "execution_count": null,
   "metadata": {},
   "outputs": [],
   "source": [
    "# Do the same for all options, graph with instances where the options are undervalued\n",
    "for option in option_names:\n",
    "    OptionAsk = market_data.loc[market_data[option, \"AskDifference\"] > 0]    \n",
    "    OptionBid = market_data.loc[market_data[option, \"BidDifference\"] > 0]\n",
    "    OptionAsk[option, \"AskDifference\"].plot()\n",
    "    OptionBid[option, \"BidDifference\"].plot()"
   ]
  },
  {
   "cell_type": "code",
   "execution_count": null,
   "metadata": {},
   "outputs": [],
   "source": [
    "# Calculate the average of the AskDifference of all options, which we will use as our trading offset.\n",
    "# So how much the ask price is lower than the theoreticl ask value, on average\n",
    "\n",
    "meandifference = []\n",
    "for option in option_names:\n",
    "    OptionAsk = market_data.loc[market_data[option, \"AskDifference\"] > 0]    \n",
    "    OptionBid = market_data.loc[market_data[option, \"BidDifference\"] > 0]\n",
    "    meandifference.append(OptionAsk[option, \"AskDifference\"].mean())\n",
    "    meandifference.append(OptionBid[option, \"BidDifference\"].mean())\n",
    "    \n",
    "trading_offset = sum(meandifference) / len(meandifference)\n",
    "trading_offset"
   ]
  },
  {
   "cell_type": "code",
   "execution_count": null,
   "metadata": {},
   "outputs": [],
   "source": [
    "option_deltas = []\n",
    "for option in option_names:\n",
    "    option_deltas.append([option,\"Delta\"])\n",
    "    \n",
    "option_deltas"
   ]
  },
  {
   "cell_type": "code",
   "execution_count": null,
   "metadata": {},
   "outputs": [],
   "source": [
    "values = [1,2,5,1,2,5,2]\n",
    "result = 0\n",
    "for value in values:\n",
    "    result += value\n",
    "print(result)"
   ]
  },
  {
   "cell_type": "code",
   "execution_count": null,
   "metadata": {},
   "outputs": [],
   "source": [
    "## Create hedge_ratio function to determine ratio of options to underlying stock \n",
    "\n",
    "# Function to determine if number is whole\n",
    "def is_whole(n):\n",
    "    return n % 1 == 0\n",
    "\n",
    "# List of numbers from 99 to 1 that 100 can be divided by to get a whole number: [50,25,20,10,5,4,2,1]\n",
    "integer_numbers = []\n",
    "for i in reversed(range(1,100)):\n",
    "    if is_whole(100/i):\n",
    "        integer_numbers.append(i)\n",
    "\n",
    "# Check if the rounded delta can be divided by a number in the list integer_numbers so that it is a whole number\n",
    "# for example: if delta is 0.701300, then the rounded delta is 70 and it can be divided by 10 -> hedge ratio = 10/7,\n",
    "# since 100/10 is a whole number (10) and 70/10 is a whole number (7) -> trade 10 options and 7 underlying stocks\n",
    "def hedge_ratio(delta, integer_numbers):\n",
    "    for number in integer_numbers:\n",
    "        if is_whole(round(abs(delta) * 100) / number):\n",
    "            hedge_ratio.options_ratio = 100/number\n",
    "            hedge_ratio.stocks_ratio = round(abs(delta) * 100) / number\n",
    "            break"
   ]
  },
  {
   "cell_type": "code",
   "execution_count": null,
   "metadata": {},
   "outputs": [],
   "source": [
    "hedge_ratio(-0.444272, integer_numbers)\n",
    "print(hedge_ratio.options_ratio)\n",
    "print(hedge_ratio.stocks_ratio)"
   ]
  },
  {
   "cell_type": "code",
   "execution_count": null,
   "metadata": {},
   "outputs": [],
   "source": [
    "# Once we have the hedge_ratio, we want to know how many options and stocks we can trade\n",
    "\n",
    "# For example, hedge_ratio is 4/3 (4 options, 3 stocks), option ask volume = 23 and stock bid bolume = 77\n",
    "# -> buy 20 options, sell 15 stocks which is in the ratio 4/3 (and vice versa if we sell a call or buy a put, of course)\n",
    "option_ratio = 4\n",
    "stock_ratio = 3\n",
    "option_volume = 23\n",
    "stock_volume = 77\n",
    "\n",
    "options_trade = option_volume-(option_volume%option_ratio)\n",
    "stocks_trade = (options_trade/option_ratio)*stock_ratio\n",
    "\n",
    "print(options_trade, stocks_trade)\n",
    "\n",
    "# Put the above code into a function -> if the result = 0 (when the hedge_ratio is e.g. 100/91, we do not want to trade)\n",
    "def trade_made(options_ratio, stocks_ratio, option_volume, stock_volume):\n",
    "    trade_made.options_trade = option_volume-(option_volume%options_ratio)\n",
    "    trade_made.stocks_trade = (trade_made.options_trade/options_ratio)*stocks_ratio\n",
    "\n",
    "trade_made(25,11,117,147)\n",
    "print(trade_made.options_trade, trade_made.stocks_trade)"
   ]
  },
  {
   "cell_type": "code",
   "execution_count": null,
   "metadata": {},
   "outputs": [],
   "source": [
    "def total_delta(market_data, option_names, positions):\n",
    "    total_delta.total_delta=0\n",
    "    for option in option_names:\n",
    "        delta = market_data[option, \"DeltaMid\"] * positions[option]\n",
    "        total_delta.total_delta += delta\n",
    "    total_delta.total_delta += positions[\"Stock\"]\n",
    "    \n"
   ]
  },
  {
   "cell_type": "code",
   "execution_count": null,
   "metadata": {},
   "outputs": [],
   "source": [
    "y = 3\n",
    "z = 4\n",
    "x = 0\n",
    "\n",
    "for i in range(0,4):\n",
    "    x += i\n",
    "x += -10\n",
    "\n",
    "if x >= 4:\n",
    "    y += -round(x)\n",
    "    z = x - round(x)\n",
    "elif x <= -4:\n",
    "    y += -round(x)\n",
    "    z = x -round(x)\n",
    "    \n",
    "print(x,y,z)   "
   ]
  },
  {
   "cell_type": "code",
   "execution_count": null,
   "metadata": {},
   "outputs": [],
   "source": [
    "#     if total_delta >= 19:\n",
    "#         positions.loc[time, \"Stock\"] += -round(total_delta)\n",
    "# #         positions.loc[time, 'TotalDelta'] = total_delta - 19\n",
    "# #         positions.loc[time, 'TotalDelta'] = total_delta -round(total_delta)\n",
    "#     elif total_delta <= -19:\n",
    "#         positions.loc[time, 'Stock'] += round(total_delta)\n",
    "# #         positions.loc[time, 'TotalDelta'] = total_delta + 19\n",
    "# #         positions.loc[time, 'TotalDelta'] += -round(total_delta)"
   ]
  },
  {
   "cell_type": "code",
   "execution_count": null,
   "metadata": {},
   "outputs": [],
   "source": [
    "### Algorithm \n",
    "\n",
    "# Create positions dataframe with stock and options\n",
    "positions = pd.DataFrame(data=0, \n",
    "                         index=market_data.index,\n",
    "                         columns= option_names)\n",
    "positions[\"Stock\"] = 0\n",
    "positions[\"TotalDelta\"] = 0\n",
    "positions = positions.sort_index(axis = 1, ascending = False)\n",
    "\n",
    "# Max absolute delta is 20\n",
    "delta_limit = 20   \n",
    "# Loop over the timestamps\n",
    "prev_time = None\n",
    "for time, mkt_data_at_time in market_data.iterrows():\n",
    "    if prev_time == None:\n",
    "        # This skips the first observation, we don't want to take a position yet\n",
    "        prev_time = time\n",
    "        continue\n",
    "    # Loop over the put and call options at each timestamp\n",
    "    temporary_stock=0\n",
    "    temporary_stock2=0\n",
    "    \n",
    "    for option in option_names:\n",
    "        \n",
    "        # Calculate gamma and change in delta\n",
    "#         gamma = mkt_data_at_time[]\n",
    "\n",
    "    # If the ask price of an option is lower than the theoretical price by more than our required offset,\n",
    "    # we want to buy the option\n",
    "        if mkt_data_at_time[option, \"AskDifference\"] > trading_offset:\n",
    "\n",
    "         # First specify the trades for call options\n",
    "            if option[0] == 'C':\n",
    "                \n",
    "            # Get option volume and stock volume. Buy the option so ask volume, and sell the stock so bid volume.\n",
    "                option_volume = mkt_data_at_time[option, \"AskVolume\"]\n",
    "                stock_volume = mkt_data_at_time[\"Stock\", \"BidVolume\"]\n",
    "\n",
    "                # Use delta to determine hedge ratio, how much of the option compared to underlying stock is needed\n",
    "                hedge_ratio(mkt_data_at_time[option, \"DeltaAsk\"], integer_numbers)\n",
    "\n",
    "                # Use the results from the hedge_ratio function to determine how much we are going to trade, by\n",
    "                # taking into account the available option and stock volume\n",
    "                trade_made(hedge_ratio.options_ratio, hedge_ratio.stocks_ratio, option_volume, stock_volume)\n",
    "\n",
    "                # Buy the call so +, and sell the stock so -\n",
    "                positions.loc[time, option] = positions.loc[prev_time, option] + trade_made.options_trade\n",
    "#                 positions.loc[time, \"Stock\"] += -trade_made.stocks_trade\n",
    "                temporary_stock+= -trade_made.stocks_trade\n",
    "                \n",
    "#                 print(-trade_made.stocks_trade)\n",
    "#                 print(positions.loc[time, \"Stock\"])\n",
    "#                 print(temporary_stock)\n",
    "         \n",
    "            # Now for put options\n",
    "            elif option[0] == 'P':\n",
    "                \n",
    "            # Get option volume and stock volume. Buy the option so ask volume, and buy the stock so ask volume.\n",
    "                option_volume = mkt_data_at_time[option,\"AskVolume\"]\n",
    "                stock_volume = mkt_data_at_time[\"Stock\", \"AskVolume\"]\n",
    "\n",
    "                # Use delta to determine hedge ratio, how much of the option compared to underlying stock is needed\n",
    "                hedge_ratio(mkt_data_at_time[option, \"DeltaAsk\"], integer_numbers)\n",
    "\n",
    "                # Use the results from the hedge_ratio function to determine how much we are going to trade, by\n",
    "                # taking into account the available option and stock volume\n",
    "                trade_made(hedge_ratio.options_ratio, hedge_ratio.stocks_ratio, option_volume, stock_volume)\n",
    "\n",
    "                # Buy the put so +, and sell the stock so +\n",
    "                positions.loc[time, option] = positions.loc[prev_time, option] + trade_made.options_trade\n",
    "#                 positions.loc[time, \"Stock\"] += trade_made.stocks_trade\n",
    "                temporary_stock2+= trade_made.stocks_trade\n",
    "\n",
    "#                 print(trade_made.stocks_trade)\n",
    "#                 print(positions.loc[time, \"Stock\"])\n",
    "#                 print(temporary_stock2)\n",
    "\n",
    "\n",
    "\n",
    "# #                 Now we do the same, but this time we sell the options (so look at BidDifference)\n",
    "        elif mkt_data_at_time[option, \"BidDifference\"] > trading_offset:\n",
    "                \n",
    "            if option[0] == 'C':\n",
    "                \n",
    "            # Get option volume and stock volume. Sell the option so bid volume, and buy the stock so ask volume.\n",
    "                option_volume = mkt_data_at_time[option, \"BidVolume\"]\n",
    "                stock_volume = mkt_data_at_time[\"Stock\", \"AskVolume\"]\n",
    "\n",
    "                # Use delta to determine hedge ratio, how much of the option compared to underlying stock is needed\n",
    "                hedge_ratio(mkt_data_at_time[option, \"DeltaBid\"], integer_numbers)\n",
    "\n",
    "                # Use the results from the hedge_ratio function to determine how much we are going to trade, by\n",
    "                # taking into account the available option and stock volume\n",
    "                trade_made(hedge_ratio.options_ratio, hedge_ratio.stocks_ratio, option_volume, stock_volume)\n",
    "\n",
    "                # Sell the call so -, and buy the stock so +\n",
    "                positions.loc[time, option] = positions.loc[prev_time, option] - trade_made.options_trade\n",
    "#                 positions.loc[time, \"Stock\"] += trade_made.stocks_trade\n",
    "                temporary_stock+= trade_made.stocks_trade\n",
    "                \n",
    "#                 print(trade_made.stocks_trade)\n",
    "#                 print(positions.loc[time, \"Stock\"])\n",
    "#                 print(temporary_stock)\n",
    "\n",
    "        \n",
    "        # Now for put options\n",
    "            elif option[0] == 'P':\n",
    "                \n",
    "            # Get option volume and stock volume. Sell the option so bid volume, and sell the stock so bid volume.\n",
    "                option_volume = mkt_data_at_time[option,\"BidVolume\"]\n",
    "                stock_volume = mkt_data_at_time[\"Stock\", \"BidVolume\"]\n",
    "\n",
    "                # Use delta to determine hedge ratio, how much of the option compared to underlying stock is needed\n",
    "                hedge_ratio(mkt_data_at_time[option, \"DeltaBid\"], integer_numbers)\n",
    "\n",
    "                # Use the results from the hedge_ratio function to determine how much we are going to trade, by\n",
    "                # taking into account the available option and stock volume\n",
    "                trade_made(hedge_ratio.options_ratio, hedge_ratio.stocks_ratio, option_volume, stock_volume)\n",
    "\n",
    "                # Buy the put so +, and Buy the stock so +\n",
    "                positions.loc[time, option] = positions.loc[prev_time, option] - trade_made.options_trade\n",
    "#                 positions.loc[time, \"Stock\"] += -trade_made.stocks_trade\n",
    "                temporary_stock2+= -trade_made.stocks_trade\n",
    "                \n",
    "#                 print(-trade_made.stocks_trade)\n",
    "#                 print(positions.loc[time, \"Stock\"])\n",
    "#                 print(temporary_stock2)\n",
    "\n",
    "\n",
    "        else:\n",
    "            positions.loc[time, option] = positions.loc[prev_time, option]\n",
    "#             positions.loc[time, \"Stock\"] = positions.loc[prev_time, \"Stock\"]\n",
    "            \n",
    "#     if positions.loc[time, \"Stock\"] != positions.loc[prev_time, \"Stock\"]:\n",
    "#         positions.loc[time, \"Stock\"] += positions.loc[prev_time, \"Stock\"]\n",
    "    positions.loc[time, \"Stock\"] = positions.loc[prev_time, \"Stock\"] + temporary_stock2 + temporary_stock\n",
    "    \n",
    "    total_delta=0\n",
    "    for option in option_names:\n",
    "#         delta = mkt_data_at_time[option, \"DeltaMid\"] * positions.loc[time,option]\n",
    "        total_delta += mkt_data_at_time[option, \"DeltaMid\"] * positions.loc[time,option]\n",
    "    total_delta += positions.loc[time, \"Stock\"]\n",
    "#     positions.loc[time, \"TotalDelta\"] = total_delta        \n",
    "\n",
    "    if total_delta >= delta_limit:\n",
    "        positions.loc[time, \"Stock\"] += -round(total_delta)\n",
    "#         positions.loc[time, 'TotalDelta'] = total_delta - 19\n",
    "        positions.loc[time, 'TotalDelta'] = total_delta -round(total_delta)\n",
    "    elif total_delta <= -delta_limit:\n",
    "        positions.loc[time, 'Stock'] += -round(total_delta)\n",
    "#         positions.loc[time, 'TotalDelta'] = total_delta + 19\n",
    "        positions.loc[time, 'TotalDelta'] = total_delta -round(total_delta)\n",
    "    else:\n",
    "        positions.loc[time, \"TotalDelta\"] = total_delta        \n",
    "        \n",
    "        # In the next iteration of the loop, the previous time will be what is now the current time\n",
    "    prev_time = time"
   ]
  },
  {
   "cell_type": "code",
   "execution_count": null,
   "metadata": {},
   "outputs": [],
   "source": [
    "# Visualize positions over time\n",
    "positions.iloc[0:1000].plot(figsize=(20, 3))\n"
   ]
  },
  {
   "cell_type": "code",
   "execution_count": null,
   "metadata": {},
   "outputs": [],
   "source": [
    "positions.tail()"
   ]
  },
  {
   "cell_type": "code",
   "execution_count": null,
   "metadata": {},
   "outputs": [],
   "source": [
    "positions['TotalDelta'].plot(figsize=(20, 3))\n"
   ]
  },
  {
   "cell_type": "code",
   "execution_count": null,
   "metadata": {
    "scrolled": true
   },
   "outputs": [],
   "source": [
    "positions.loc[abs(positions['TotalDelta']) > 20]"
   ]
  },
  {
   "cell_type": "code",
   "execution_count": null,
   "metadata": {},
   "outputs": [],
   "source": [
    "positions.loc[\"2018-01-08 06:15:00\":\"2018-01-08 06:30:00\"]"
   ]
  },
  {
   "cell_type": "code",
   "execution_count": null,
   "metadata": {},
   "outputs": [],
   "source": [
    "market_data.loc[\"2018-01-08 06:15:00\":\"2018-01-08 06:30:00\"]"
   ]
  },
  {
   "cell_type": "code",
   "execution_count": null,
   "metadata": {},
   "outputs": [],
   "source": [
    "# Traded lots, assume we trade 0 in the first period\n",
    "trades = positions.diff().fillna(0)\n",
    "\n",
    "# Again start with an empty DataFrame\n",
    "pnl_trades = pd.DataFrame(index = trades.index, columns = list(positions))\n",
    "\n",
    "\n",
    "# Calculate total PnL made from trading (we bought against ask price, and sold against bid price).\n",
    "lots_bought = np.maximum(trades, 0)\n",
    "lots_sold = -np.minimum(trades, 0)\n",
    "\n",
    "for position in list(positions):\n",
    "    if position[0] != 'T':\n",
    "        pnl_trades[position] = lots_sold[position] * market_data[position, 'BidPrice'] - lots_bought[position] * market_data[position, 'AskPrice']\n",
    "\n",
    "pnl_trades_total = pnl_trades.iloc[:,:].sum(axis=1)\n",
    "pnl_trades_cumulative = pnl_trades_total.cumsum()"
   ]
  },
  {
   "cell_type": "code",
   "execution_count": null,
   "metadata": {},
   "outputs": [],
   "source": [
    "# Evaluating the position at current midprice per stock\n",
    "position_valuation = pd.DataFrame(data = 0, index = trades.index, columns = list(positions))\n",
    "\n",
    "for position in list(positions):\n",
    "    if position[0] != 'T':\n",
    "        position_valuation[position] = (market_data[position, 'AskPrice'] + market_data[position, 'BidPrice'])/2 * positions[position]\n",
    "\n",
    "position_valuation_total = position_valuation.iloc[:,:].sum(axis=1)\n",
    "\n",
    "position_valuation_total.tail()"
   ]
  },
  {
   "cell_type": "code",
   "execution_count": null,
   "metadata": {},
   "outputs": [],
   "source": [
    "# Total pnl from trades and position\n",
    "pnl_total = pnl_trades_cumulative + position_valuation_total\n",
    "\n",
    "# Plot it\n",
    "pnl_trades_total.plot(figsize=(20, 3))"
   ]
  },
  {
   "cell_type": "code",
   "execution_count": null,
   "metadata": {},
   "outputs": [],
   "source": [
    "# Visualize cumulative profit and loss\n",
    "pnl_trades_cumulative.plot(figsize=(20, 3))"
   ]
  },
  {
   "cell_type": "code",
   "execution_count": null,
   "metadata": {},
   "outputs": [],
   "source": [
    "# Visualize total pnl\n",
    "\n",
    "pnl_total.plot(figsize=(20, 3), title='PnL for whole dataset')"
   ]
  },
  {
   "cell_type": "code",
   "execution_count": null,
   "metadata": {},
   "outputs": [],
   "source": [
    "# Create output dataframe with positions and the PnL\n",
    "output = pd.concat((positions, pnl_total), axis=1)\n",
    "output.columns.values[[-1]] = ['Profit-and-Loss']\n",
    "output.tail()"
   ]
  },
  {
   "cell_type": "code",
   "execution_count": null,
   "metadata": {},
   "outputs": [],
   "source": [
    "# Create CSV output file \n",
    "output.to_csv(\"PnL.csv\")"
   ]
  },
  {
   "cell_type": "code",
   "execution_count": null,
   "metadata": {},
   "outputs": [],
   "source": []
  }
 ],
 "metadata": {
  "kernelspec": {
   "display_name": "Python 3",
   "language": "python",
   "name": "python3"
  },
  "language_info": {
   "codemirror_mode": {
    "name": "ipython",
    "version": 3
   },
   "file_extension": ".py",
   "mimetype": "text/x-python",
   "name": "python",
   "nbconvert_exporter": "python",
   "pygments_lexer": "ipython3",
   "version": "3.7.1"
  }
 },
 "nbformat": 4,
 "nbformat_minor": 2
}
